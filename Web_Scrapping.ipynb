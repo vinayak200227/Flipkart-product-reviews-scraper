{
 "cells": [
  {
   "cell_type": "code",
   "execution_count": 17,
   "metadata": {},
   "outputs": [],
   "source": [
    "import requests\n",
    "from bs4 import BeautifulSoup as bs\n",
    "from urllib.request import urlopen\n",
    "import logging"
   ]
  },
  {
   "cell_type": "code",
   "execution_count": 3,
   "metadata": {},
   "outputs": [],
   "source": [
    "flipkart_url = \"https://www.flipkart.com/search?q=\"+ \"iphone+14+pro\""
   ]
  },
  {
   "cell_type": "code",
   "execution_count": 4,
   "metadata": {},
   "outputs": [
    {
     "data": {
      "text/plain": [
       "'https://www.flipkart.com/search?q=iphone+14+pro'"
      ]
     },
     "execution_count": 4,
     "metadata": {},
     "output_type": "execute_result"
    }
   ],
   "source": [
    "flipkart_url"
   ]
  },
  {
   "cell_type": "code",
   "execution_count": 12,
   "metadata": {},
   "outputs": [],
   "source": [
    "url_client = urlopen(flipkart_url)"
   ]
  },
  {
   "cell_type": "code",
   "execution_count": 14,
   "metadata": {},
   "outputs": [],
   "source": [
    "flipkart_page = url_client.read() # read html of that page"
   ]
  },
  {
   "cell_type": "code",
   "execution_count": 26,
   "metadata": {},
   "outputs": [],
   "source": [
    "# flipkart_page"
   ]
  },
  {
   "cell_type": "markdown",
   "metadata": {},
   "source": [
    "# Beutifying content of page by using Beutifulsoup"
   ]
  },
  {
   "cell_type": "code",
   "execution_count": 21,
   "metadata": {},
   "outputs": [],
   "source": [
    "flipkart_html = bs(flipkart_page, 'html.parser')   # it beutifies little bit"
   ]
  },
  {
   "cell_type": "code",
   "execution_count": 111,
   "metadata": {},
   "outputs": [
    {
     "data": {
      "text/plain": [
       "<title>Iphone 14 Pro- Buy Products Online at Best Price in India - All Categories | Flipkart.com</title>"
      ]
     },
     "execution_count": 111,
     "metadata": {},
     "output_type": "execute_result"
    }
   ],
   "source": [
    "# reference GFG\n",
    "flipkart_html.title   # Getting the title tag"
   ]
  },
  {
   "cell_type": "code",
   "execution_count": 112,
   "metadata": {},
   "outputs": [
    {
     "data": {
      "text/plain": [
       "'title'"
      ]
     },
     "execution_count": 112,
     "metadata": {},
     "output_type": "execute_result"
    }
   ],
   "source": [
    "flipkart_html.title.name   # Getting the name of the tag"
   ]
  },
  {
   "cell_type": "code",
   "execution_count": 113,
   "metadata": {},
   "outputs": [
    {
     "data": {
      "text/plain": [
       "'head'"
      ]
     },
     "execution_count": 113,
     "metadata": {},
     "output_type": "execute_result"
    }
   ],
   "source": [
    "flipkart_html.title.parent.name   # Getting the name of parent tag"
   ]
  },
  {
   "cell_type": "markdown",
   "metadata": {},
   "source": [
    "# Web Scrapping for Rewiews of products"
   ]
  },
  {
   "cell_type": "code",
   "execution_count": 66,
   "metadata": {},
   "outputs": [],
   "source": [
    "bigbox = flipkart_html.find_all(\"div\", {\"class\":\"_1AtVbE col-12-12\"})     # returns list of div tags having provided class"
   ]
  },
  {
   "cell_type": "code",
   "execution_count": 67,
   "metadata": {},
   "outputs": [
    {
     "data": {
      "text/plain": [
       "29"
      ]
     },
     "execution_count": 67,
     "metadata": {},
     "output_type": "execute_result"
    }
   ],
   "source": [
    "len(bigbox)"
   ]
  },
  {
   "cell_type": "code",
   "execution_count": 68,
   "metadata": {},
   "outputs": [],
   "source": [
    "del bigbox[0:2]    # deleting first two boxes from list"
   ]
  },
  {
   "cell_type": "code",
   "execution_count": 70,
   "metadata": {},
   "outputs": [
    {
     "data": {
      "text/plain": [
       "27"
      ]
     },
     "execution_count": 70,
     "metadata": {},
     "output_type": "execute_result"
    }
   ],
   "source": [
    "len(bigbox)"
   ]
  },
  {
   "cell_type": "code",
   "execution_count": 72,
   "metadata": {},
   "outputs": [],
   "source": [
    "product_link = \"https://www.flipkart.com\" + bigbox[0].div.div.div.a['href']"
   ]
  },
  {
   "cell_type": "code",
   "execution_count": 71,
   "metadata": {},
   "outputs": [
    {
     "name": "stdout",
     "output_type": "stream",
     "text": [
      "https://www.flipkart.com/apple-iphone-14-pro-space-black-128-gb/p/itm6e6711f2982c8?pid=MOBGHWFHZBHSYBBW&lid=LSTMOBGHWFHZBHSYBBWZRMCHS&marketplace=FLIPKART&q=iphone+14+pro&store=tyy%2F4io&srno=s_1_1&otracker=search&fm=organic&iid=4dcb6ac4-1e0c-4ac6-8124-f53f638e9738.MOBGHWFHZBHSYBBW.SEARCH&ppt=None&ppn=None&ssid=71b5h3iftc0000001683118248971&qH=73a41d19c3188cc2\n",
      "https://www.flipkart.com/apple-iphone-14-pro-gold-128-gb/p/itme5895e593585d?pid=MOBGHWFHXPC3NFFY&lid=LSTMOBGHWFHXPC3NFFYC5Y9VU&marketplace=FLIPKART&q=iphone+14+pro&store=tyy%2F4io&srno=s_1_2&otracker=search&fm=organic&iid=4dcb6ac4-1e0c-4ac6-8124-f53f638e9738.MOBGHWFHXPC3NFFY.SEARCH&ppt=None&ppn=None&ssid=71b5h3iftc0000001683118248971&qH=73a41d19c3188cc2\n",
      "https://www.flipkart.com/apple-iphone-14-pro-silver-128-gb/p/itm6933eb5fb30fb?pid=MOBGHWFHGQGUHWRK&lid=LSTMOBGHWFHGQGUHWRKM5ZB1P&marketplace=FLIPKART&q=iphone+14+pro&store=tyy%2F4io&srno=s_1_3&otracker=search&fm=organic&iid=4dcb6ac4-1e0c-4ac6-8124-f53f638e9738.MOBGHWFHGQGUHWRK.SEARCH&ppt=None&ppn=None&ssid=71b5h3iftc0000001683118248971&qH=73a41d19c3188cc2\n",
      "https://www.flipkart.com/apple-iphone-14-pro-deep-purple-128-gb/p/itm75f73f63239fa?pid=MOBGHWFHYGAZRWFT&lid=LSTMOBGHWFHYGAZRWFTJTZIDA&marketplace=FLIPKART&q=iphone+14+pro&store=tyy%2F4io&srno=s_1_4&otracker=search&fm=organic&iid=4dcb6ac4-1e0c-4ac6-8124-f53f638e9738.MOBGHWFHYGAZRWFT.SEARCH&ppt=None&ppn=None&ssid=71b5h3iftc0000001683118248971&qH=73a41d19c3188cc2\n",
      "https://www.flipkart.com/apple-iphone-14-pro-deep-purple-256-gb/p/itmfbeb0684432d7?pid=MOBGHWFHR4ZYUPH5&lid=LSTMOBGHWFHR4ZYUPH5XVPV0K&marketplace=FLIPKART&q=iphone+14+pro&store=tyy%2F4io&srno=s_1_5&otracker=search&fm=organic&iid=4dcb6ac4-1e0c-4ac6-8124-f53f638e9738.MOBGHWFHR4ZYUPH5.SEARCH&ppt=None&ppn=None&ssid=71b5h3iftc0000001683118248971&qH=73a41d19c3188cc2\n",
      "https://www.flipkart.com/apple-iphone-14-pro-space-black-512-gb/p/itm67843bf67dbae?pid=MOBGHWFHH9JVZK6Z&lid=LSTMOBGHWFHH9JVZK6Z1CB0XT&marketplace=FLIPKART&q=iphone+14+pro&store=tyy%2F4io&srno=s_1_6&otracker=search&fm=organic&iid=4dcb6ac4-1e0c-4ac6-8124-f53f638e9738.MOBGHWFHH9JVZK6Z.SEARCH&ppt=None&ppn=None&ssid=71b5h3iftc0000001683118248971&qH=73a41d19c3188cc2\n",
      "https://www.flipkart.com/apple-iphone-14-pro-space-black-1-tb/p/itm753a220ef7086?pid=MOBGHWFHYNZZ7RBP&lid=LSTMOBGHWFHYNZZ7RBPLYLBZW&marketplace=FLIPKART&q=iphone+14+pro&store=tyy%2F4io&srno=s_1_7&otracker=search&fm=organic&iid=4dcb6ac4-1e0c-4ac6-8124-f53f638e9738.MOBGHWFHYNZZ7RBP.SEARCH&ppt=None&ppn=None&ssid=71b5h3iftc0000001683118248971&qH=73a41d19c3188cc2\n",
      "https://www.flipkart.com/apple-iphone-14-pro-silver-512-gb/p/itm7e2568f4b25ad?pid=MOBGHWFHYTAUDTNG&lid=LSTMOBGHWFHYTAUDTNGS2ZXK3&marketplace=FLIPKART&q=iphone+14+pro&store=tyy%2F4io&srno=s_1_8&otracker=search&fm=organic&iid=4dcb6ac4-1e0c-4ac6-8124-f53f638e9738.MOBGHWFHYTAUDTNG.SEARCH&ppt=None&ppn=None&ssid=71b5h3iftc0000001683118248971&qH=73a41d19c3188cc2\n",
      "https://www.flipkart.com/apple-iphone-14-pro-gold-1-tb/p/itm02b2bc7f8c906?pid=MOBGHWFHT5RCQ9QG&lid=LSTMOBGHWFHT5RCQ9QGQBAXQ9&marketplace=FLIPKART&q=iphone+14+pro&store=tyy%2F4io&srno=s_1_9&otracker=search&fm=organic&iid=4dcb6ac4-1e0c-4ac6-8124-f53f638e9738.MOBGHWFHT5RCQ9QG.SEARCH&ppt=None&ppn=None&ssid=71b5h3iftc0000001683118248971&qH=73a41d19c3188cc2\n",
      "https://www.flipkart.com/apple-iphone-14-pro-gold-512-gb/p/itm2baef06bbd342?pid=MOBGHWFHN8TWTXJA&lid=LSTMOBGHWFHN8TWTXJA9FZGC7&marketplace=FLIPKART&q=iphone+14+pro&store=tyy%2F4io&srno=s_1_10&otracker=search&fm=organic&iid=4dcb6ac4-1e0c-4ac6-8124-f53f638e9738.MOBGHWFHN8TWTXJA.SEARCH&ppt=None&ppn=None&ssid=71b5h3iftc0000001683118248971&qH=73a41d19c3188cc2\n",
      "https://www.flipkart.com/apple-iphone-14-pro-silver-1-tb/p/itm87b6f4daf8cd0?pid=MOBGHWFHSY5K7VGA&lid=LSTMOBGHWFHSY5K7VGAM3MJJG&marketplace=FLIPKART&q=iphone+14+pro&store=tyy%2F4io&srno=s_1_11&otracker=search&fm=organic&iid=4dcb6ac4-1e0c-4ac6-8124-f53f638e9738.MOBGHWFHSY5K7VGA.SEARCH&ppt=None&ppn=None&ssid=71b5h3iftc0000001683118248971&qH=73a41d19c3188cc2\n",
      "https://www.flipkart.com/apple-iphone-14-pro-deep-purple-1-tb/p/itm7c1a62ebc5ecc?pid=MOBGHWFHEUDJH7TG&lid=LSTMOBGHWFHEUDJH7TGGKLSAZ&marketplace=FLIPKART&q=iphone+14+pro&store=tyy%2F4io&srno=s_1_12&otracker=search&fm=organic&iid=4dcb6ac4-1e0c-4ac6-8124-f53f638e9738.MOBGHWFHEUDJH7TG.SEARCH&ppt=None&ppn=None&ssid=71b5h3iftc0000001683118248971&qH=73a41d19c3188cc2\n",
      "https://www.flipkart.com/apple-iphone-14-pro-max-space-black-128-gb/p/itm9aed88fe43457?pid=MOBGHWFHCNVGGMZF&lid=LSTMOBGHWFHCNVGGMZFEEIZN3&marketplace=FLIPKART&q=iphone+14+pro&store=tyy%2F4io&srno=s_1_13&otracker=search&fm=organic&iid=4dcb6ac4-1e0c-4ac6-8124-f53f638e9738.MOBGHWFHCNVGGMZF.SEARCH&ppt=None&ppn=None&ssid=71b5h3iftc0000001683118248971&qH=73a41d19c3188cc2\n",
      "https://www.flipkart.com/apple-iphone-14-pro-max-silver-128-gb/p/itmb520f3bdf56d5?pid=MOBGHWFHXFGNUZJA&lid=LSTMOBGHWFHXFGNUZJAMNTG4B&marketplace=FLIPKART&q=iphone+14+pro&store=tyy%2F4io&srno=s_1_14&otracker=search&fm=organic&iid=4dcb6ac4-1e0c-4ac6-8124-f53f638e9738.MOBGHWFHXFGNUZJA.SEARCH&ppt=None&ppn=None&ssid=71b5h3iftc0000001683118248971&qH=73a41d19c3188cc2\n",
      "https://www.flipkart.com/apple-iphone-14-pro-max-gold-128-gb/p/itm898d084d8a65f?pid=MOBGHWFHGDS3H5S9&lid=LSTMOBGHWFHGDS3H5S9AM0G7C&marketplace=FLIPKART&q=iphone+14+pro&store=tyy%2F4io&srno=s_1_15&otracker=search&fm=organic&iid=4dcb6ac4-1e0c-4ac6-8124-f53f638e9738.MOBGHWFHGDS3H5S9.SEARCH&ppt=None&ppn=None&ssid=71b5h3iftc0000001683118248971&qH=73a41d19c3188cc2\n",
      "https://www.flipkart.com/apple-iphone-14-pro-max-space-black-256-gb/p/itm8a92b3d600e04?pid=MOBGHWFHSEZUKWDM&lid=LSTMOBGHWFHSEZUKWDMSHQUPT&marketplace=FLIPKART&q=iphone+14+pro&store=tyy%2F4io&spotlightTagId=FkPickId_tyy%2F4io&srno=s_1_16&otracker=search&fm=organic&iid=4dcb6ac4-1e0c-4ac6-8124-f53f638e9738.MOBGHWFHSEZUKWDM.SEARCH&ppt=None&ppn=None&ssid=71b5h3iftc0000001683118248971&qH=73a41d19c3188cc2\n",
      "https://www.flipkart.com/apple-iphone-14-pro-max-gold-256-gb/p/itmd21bfa03be8c2?pid=MOBGHWFHZVHJM4HZ&lid=LSTMOBGHWFHZVHJM4HZFPEJ62&marketplace=FLIPKART&q=iphone+14+pro&store=tyy%2F4io&srno=s_1_17&otracker=search&fm=organic&iid=4dcb6ac4-1e0c-4ac6-8124-f53f638e9738.MOBGHWFHZVHJM4HZ.SEARCH&ppt=None&ppn=None&ssid=71b5h3iftc0000001683118248971&qH=73a41d19c3188cc2\n",
      "https://www.flipkart.com/apple-iphone-14-pro-max-space-black-512-gb/p/itm68fe95bfc58dd?pid=MOBGHWFHSTGZHYAT&lid=LSTMOBGHWFHSTGZHYATDCZBHP&marketplace=FLIPKART&q=iphone+14+pro&store=tyy%2F4io&srno=s_1_18&otracker=search&fm=organic&iid=4dcb6ac4-1e0c-4ac6-8124-f53f638e9738.MOBGHWFHSTGZHYAT.SEARCH&ppt=None&ppn=None&ssid=71b5h3iftc0000001683118248971&qH=73a41d19c3188cc2\n",
      "https://www.flipkart.com/apple-iphone-14-pro-max-gold-512-gb/p/itm6ab4bc3095a65?pid=MOBGHWFHZAXBEPXV&lid=LSTMOBGHWFHZAXBEPXVDYYT8X&marketplace=FLIPKART&q=iphone+14+pro&store=tyy%2F4io&srno=s_1_19&otracker=search&fm=organic&iid=4dcb6ac4-1e0c-4ac6-8124-f53f638e9738.MOBGHWFHZAXBEPXV.SEARCH&ppt=None&ppn=None&ssid=71b5h3iftc0000001683118248971&qH=73a41d19c3188cc2\n",
      "https://www.flipkart.com/apple-iphone-14-pro-max-silver-512-gb/p/itm450e8757732f9?pid=MOBGHWFHEQA2GSCS&lid=LSTMOBGHWFHEQA2GSCSPHDU4P&marketplace=FLIPKART&q=iphone+14+pro&store=tyy%2F4io&srno=s_1_20&otracker=search&fm=organic&iid=4dcb6ac4-1e0c-4ac6-8124-f53f638e9738.MOBGHWFHEQA2GSCS.SEARCH&ppt=None&ppn=None&ssid=71b5h3iftc0000001683118248971&qH=73a41d19c3188cc2\n",
      "https://www.flipkart.com/apple-iphone-14-pro-max-deep-purple-128-gb/p/itm5256789ae40c7?pid=MOBGHWFHCWHXRZZJ&lid=LSTMOBGHWFHCWHXRZZJ9EECH5&marketplace=FLIPKART&q=iphone+14+pro&store=tyy%2F4io&srno=s_1_21&otracker=search&fm=organic&iid=4dcb6ac4-1e0c-4ac6-8124-f53f638e9738.MOBGHWFHCWHXRZZJ.SEARCH&ppt=None&ppn=None&ssid=71b5h3iftc0000001683118248971&qH=73a41d19c3188cc2\n",
      "https://www.flipkart.com/apple-iphone-14-pro-space-black-256-gb/p/itmbf9b9d0d108a7?pid=MOBGHWFHMSKYWVTR&lid=LSTMOBGHWFHMSKYWVTRKZV7U3&marketplace=FLIPKART&q=iphone+14+pro&store=tyy%2F4io&srno=s_1_22&otracker=search&fm=organic&iid=4dcb6ac4-1e0c-4ac6-8124-f53f638e9738.MOBGHWFHMSKYWVTR.SEARCH&ppt=None&ppn=None&ssid=71b5h3iftc0000001683118248971&qH=73a41d19c3188cc2\n",
      "https://www.flipkart.com/apple-iphone-14-pro-gold-256-gb/p/itm9b3566b996597?pid=MOBGHWFHGGXGCRRP&lid=LSTMOBGHWFHGGXGCRRPYZW3DP&marketplace=FLIPKART&q=iphone+14+pro&store=tyy%2F4io&srno=s_1_23&otracker=search&fm=organic&iid=4dcb6ac4-1e0c-4ac6-8124-f53f638e9738.MOBGHWFHGGXGCRRP.SEARCH&ppt=None&ppn=None&ssid=71b5h3iftc0000001683118248971&qH=73a41d19c3188cc2\n",
      "https://www.flipkart.com/apple-iphone-14-pro-deep-purple-512-gb/p/itm8b019143e0c10?pid=MOBGHWFH9YZ9HBFP&lid=LSTMOBGHWFH9YZ9HBFPSBJ0XT&marketplace=FLIPKART&q=iphone+14+pro&store=tyy%2F4io&srno=s_1_24&otracker=search&fm=organic&iid=4dcb6ac4-1e0c-4ac6-8124-f53f638e9738.MOBGHWFH9YZ9HBFP.SEARCH&ppt=None&ppn=None&ssid=71b5h3iftc0000001683118248971&qH=73a41d19c3188cc2\n"
     ]
    },
    {
     "ename": "AttributeError",
     "evalue": "'NoneType' object has no attribute 'a'",
     "output_type": "error",
     "traceback": [
      "\u001b[1;31m---------------------------------------------------------------------------\u001b[0m",
      "\u001b[1;31mAttributeError\u001b[0m                            Traceback (most recent call last)",
      "\u001b[1;32m<ipython-input-71-65ec3ecad33e>\u001b[0m in \u001b[0;36m<module>\u001b[1;34m\u001b[0m\n\u001b[0;32m      1\u001b[0m \u001b[1;32mfor\u001b[0m \u001b[0mi\u001b[0m \u001b[1;32min\u001b[0m \u001b[0mbigbox\u001b[0m\u001b[1;33m:\u001b[0m\u001b[1;33m\u001b[0m\u001b[1;33m\u001b[0m\u001b[0m\n\u001b[1;32m----> 2\u001b[1;33m     \u001b[0mprint\u001b[0m\u001b[1;33m(\u001b[0m\u001b[1;34m\"https://www.flipkart.com\"\u001b[0m \u001b[1;33m+\u001b[0m \u001b[0mi\u001b[0m\u001b[1;33m.\u001b[0m\u001b[0mdiv\u001b[0m\u001b[1;33m.\u001b[0m\u001b[0mdiv\u001b[0m\u001b[1;33m.\u001b[0m\u001b[0mdiv\u001b[0m\u001b[1;33m.\u001b[0m\u001b[0ma\u001b[0m\u001b[1;33m[\u001b[0m\u001b[1;34m'href'\u001b[0m\u001b[1;33m]\u001b[0m\u001b[1;33m)\u001b[0m\u001b[1;33m\u001b[0m\u001b[1;33m\u001b[0m\u001b[0m\n\u001b[0m",
      "\u001b[1;31mAttributeError\u001b[0m: 'NoneType' object has no attribute 'a'"
     ]
    }
   ],
   "source": [
    "for i in bigbox:\n",
    "    print(\"https://www.flipkart.com\" + i.div.div.div.a['href'])"
   ]
  },
  {
   "cell_type": "code",
   "execution_count": 73,
   "metadata": {},
   "outputs": [
    {
     "data": {
      "text/plain": [
       "'https://www.flipkart.com/apple-iphone-14-pro-space-black-128-gb/p/itm6e6711f2982c8?pid=MOBGHWFHZBHSYBBW&lid=LSTMOBGHWFHZBHSYBBWZRMCHS&marketplace=FLIPKART&q=iphone+14+pro&store=tyy%2F4io&srno=s_1_1&otracker=search&fm=organic&iid=4dcb6ac4-1e0c-4ac6-8124-f53f638e9738.MOBGHWFHZBHSYBBW.SEARCH&ppt=None&ppn=None&ssid=71b5h3iftc0000001683118248971&qH=73a41d19c3188cc2'"
      ]
     },
     "execution_count": 73,
     "metadata": {},
     "output_type": "execute_result"
    }
   ],
   "source": [
    "product_link    # link of first product"
   ]
  },
  {
   "cell_type": "markdown",
   "metadata": {},
   "source": [
    "### Getting page HTML through request"
   ]
  },
  {
   "cell_type": "code",
   "execution_count": 77,
   "metadata": {},
   "outputs": [],
   "source": [
    "product_req = requests.get(product_link)   # open link of ist product"
   ]
  },
  {
   "cell_type": "code",
   "execution_count": 108,
   "metadata": {},
   "outputs": [],
   "source": [
    "product_html = bs(product_req.text, 'html.parser')   # converted into beutiful html content\n",
    "# Parsing content using beautifulsoup"
   ]
  },
  {
   "cell_type": "markdown",
   "metadata": {},
   "source": [
    "## Scrapping Comments of a products"
   ]
  },
  {
   "cell_type": "code",
   "execution_count": 91,
   "metadata": {},
   "outputs": [],
   "source": [
    "comment_box = product_html.find_all('div', {\"class\":\"_16PBlm\"})"
   ]
  },
  {
   "cell_type": "code",
   "execution_count": 92,
   "metadata": {},
   "outputs": [
    {
     "data": {
      "text/plain": [
       "11"
      ]
     },
     "execution_count": 92,
     "metadata": {},
     "output_type": "execute_result"
    }
   ],
   "source": [
    "len(comment_box)  # there are 11 comments on page for 1st product"
   ]
  },
  {
   "cell_type": "markdown",
   "metadata": {},
   "source": [
    "### person name who commented"
   ]
  },
  {
   "cell_type": "code",
   "execution_count": 86,
   "metadata": {},
   "outputs": [
    {
     "data": {
      "text/plain": [
       "[<p class=\"_2sc7ZR _2V5EHH\">Debasish Rout</p>]"
      ]
     },
     "execution_count": 86,
     "metadata": {},
     "output_type": "execute_result"
    }
   ],
   "source": [
    "comment_box[0].div.div.find_all('p', {\"class\":\"_2sc7ZR _2V5EHH\"})  # this gives list "
   ]
  },
  {
   "cell_type": "code",
   "execution_count": 88,
   "metadata": {},
   "outputs": [
    {
     "data": {
      "text/plain": [
       "<p class=\"_2sc7ZR _2V5EHH\">Debasish Rout</p>"
      ]
     },
     "execution_count": 88,
     "metadata": {},
     "output_type": "execute_result"
    }
   ],
   "source": [
    "comment_box[0].div.div.find_all('p', {\"class\":\"_2sc7ZR _2V5EHH\"})[0]   # gives first element of list "
   ]
  },
  {
   "cell_type": "code",
   "execution_count": 89,
   "metadata": {},
   "outputs": [
    {
     "data": {
      "text/plain": [
       "'Debasish Rout'"
      ]
     },
     "execution_count": 89,
     "metadata": {},
     "output_type": "execute_result"
    }
   ],
   "source": [
    "comment_box[0].div.div.find_all('p', {\"class\":\"_2sc7ZR _2V5EHH\"})[0].text   # gets text from tag"
   ]
  },
  {
   "cell_type": "code",
   "execution_count": 94,
   "metadata": {},
   "outputs": [
    {
     "name": "stdout",
     "output_type": "stream",
     "text": [
      "Debasish Rout\n",
      "Gautam Aggarwal\n",
      "Neelendra  Singh\n",
      "Sarvesh Saxena\n",
      "Vaibhav Agrawal\n",
      "shringin ambli\n",
      "Salman khan\n",
      "Subham Roy\n",
      "Ashutosh Gupta\n",
      "Flipkart Customer\n"
     ]
    },
    {
     "ename": "AttributeError",
     "evalue": "'NoneType' object has no attribute 'div'",
     "output_type": "error",
     "traceback": [
      "\u001b[1;31m---------------------------------------------------------------------------\u001b[0m",
      "\u001b[1;31mAttributeError\u001b[0m                            Traceback (most recent call last)",
      "\u001b[1;32m<ipython-input-94-816a1daaf5a0>\u001b[0m in \u001b[0;36m<module>\u001b[1;34m\u001b[0m\n\u001b[0;32m      1\u001b[0m \u001b[1;32mfor\u001b[0m \u001b[0mi\u001b[0m \u001b[1;32min\u001b[0m \u001b[0mcomment_box\u001b[0m\u001b[1;33m:\u001b[0m\u001b[1;33m\u001b[0m\u001b[1;33m\u001b[0m\u001b[0m\n\u001b[1;32m----> 2\u001b[1;33m     \u001b[0mprint\u001b[0m\u001b[1;33m(\u001b[0m\u001b[0mi\u001b[0m\u001b[1;33m.\u001b[0m\u001b[0mdiv\u001b[0m\u001b[1;33m.\u001b[0m\u001b[0mdiv\u001b[0m\u001b[1;33m.\u001b[0m\u001b[0mfind_all\u001b[0m\u001b[1;33m(\u001b[0m\u001b[1;34m'p'\u001b[0m\u001b[1;33m,\u001b[0m \u001b[1;33m{\u001b[0m\u001b[1;34m\"class\"\u001b[0m\u001b[1;33m:\u001b[0m\u001b[1;34m\"_2sc7ZR _2V5EHH\"\u001b[0m\u001b[1;33m}\u001b[0m\u001b[1;33m)\u001b[0m\u001b[1;33m[\u001b[0m\u001b[1;36m0\u001b[0m\u001b[1;33m]\u001b[0m\u001b[1;33m.\u001b[0m\u001b[0mtext\u001b[0m\u001b[1;33m)\u001b[0m\u001b[1;33m\u001b[0m\u001b[1;33m\u001b[0m\u001b[0m\n\u001b[0m",
      "\u001b[1;31mAttributeError\u001b[0m: 'NoneType' object has no attribute 'div'"
     ]
    }
   ],
   "source": [
    "for i in comment_box:\n",
    "    print(i.div.div.find_all('p', {\"class\":\"_2sc7ZR _2V5EHH\"})[0].text)"
   ]
  },
  {
   "cell_type": "markdown",
   "metadata": {},
   "source": [
    "## Ratings ⭐"
   ]
  },
  {
   "cell_type": "code",
   "execution_count": 97,
   "metadata": {},
   "outputs": [
    {
     "data": {
      "text/plain": [
       "<div class=\"_3LWZlK _1BLPMq\">5<img class=\"_1wB99o\" src=\"data:image/svg+xml;base64,PHN2ZyB4bWxucz0iaHR0cDovL3d3dy53My5vcmcvMjAwMC9zdmciIHdpZHRoPSIxMyIgaGVpZ2h0PSIxMiI+PHBhdGggZmlsbD0iI0ZGRiIgZD0iTTYuNSA5LjQzOWwtMy42NzQgMi4yMy45NC00LjI2LTMuMjEtMi44ODMgNC4yNTQtLjQwNEw2LjUuMTEybDEuNjkgNC4wMSA0LjI1NC40MDQtMy4yMSAyLjg4Mi45NCA0LjI2eiIvPjwvc3ZnPg==\"/></div>"
      ]
     },
     "execution_count": 97,
     "metadata": {},
     "output_type": "execute_result"
    }
   ],
   "source": [
    "comment_box[0].div.div.div.div"
   ]
  },
  {
   "cell_type": "code",
   "execution_count": 99,
   "metadata": {},
   "outputs": [
    {
     "data": {
      "text/plain": [
       "'5'"
      ]
     },
     "execution_count": 99,
     "metadata": {},
     "output_type": "execute_result"
    }
   ],
   "source": [
    "comment_box[0].div.div.div.div.text"
   ]
  },
  {
   "cell_type": "code",
   "execution_count": 100,
   "metadata": {},
   "outputs": [
    {
     "name": "stdout",
     "output_type": "stream",
     "text": [
      "5\n",
      "5\n",
      "5\n",
      "5\n",
      "5\n",
      "4\n",
      "5\n",
      "5\n",
      "5\n",
      "5\n"
     ]
    },
    {
     "ename": "AttributeError",
     "evalue": "'NoneType' object has no attribute 'div'",
     "output_type": "error",
     "traceback": [
      "\u001b[1;31m---------------------------------------------------------------------------\u001b[0m",
      "\u001b[1;31mAttributeError\u001b[0m                            Traceback (most recent call last)",
      "\u001b[1;32m<ipython-input-100-e4327126959c>\u001b[0m in \u001b[0;36m<module>\u001b[1;34m\u001b[0m\n\u001b[0;32m      1\u001b[0m \u001b[1;32mfor\u001b[0m \u001b[0mi\u001b[0m \u001b[1;32min\u001b[0m \u001b[0mcomment_box\u001b[0m\u001b[1;33m:\u001b[0m\u001b[1;33m\u001b[0m\u001b[1;33m\u001b[0m\u001b[0m\n\u001b[1;32m----> 2\u001b[1;33m     \u001b[0mprint\u001b[0m\u001b[1;33m(\u001b[0m\u001b[0mi\u001b[0m\u001b[1;33m.\u001b[0m\u001b[0mdiv\u001b[0m\u001b[1;33m.\u001b[0m\u001b[0mdiv\u001b[0m\u001b[1;33m.\u001b[0m\u001b[0mdiv\u001b[0m\u001b[1;33m.\u001b[0m\u001b[0mdiv\u001b[0m\u001b[1;33m.\u001b[0m\u001b[0mtext\u001b[0m\u001b[1;33m)\u001b[0m\u001b[1;33m\u001b[0m\u001b[1;33m\u001b[0m\u001b[0m\n\u001b[0m",
      "\u001b[1;31mAttributeError\u001b[0m: 'NoneType' object has no attribute 'div'"
     ]
    }
   ],
   "source": [
    "for i in comment_box:\n",
    "    print(i.div.div.div.div.text)"
   ]
  },
  {
   "cell_type": "markdown",
   "metadata": {},
   "source": [
    "### Comments"
   ]
  },
  {
   "cell_type": "code",
   "execution_count": 101,
   "metadata": {},
   "outputs": [
    {
     "data": {
      "text/plain": [
       "'Excellent'"
      ]
     },
     "execution_count": 101,
     "metadata": {},
     "output_type": "execute_result"
    }
   ],
   "source": [
    "comment_box[0].div.div.div.p.text"
   ]
  },
  {
   "cell_type": "code",
   "execution_count": 103,
   "metadata": {},
   "outputs": [
    {
     "name": "stdout",
     "output_type": "stream",
     "text": [
      "Excellent\n",
      "Brilliant\n",
      "Just wow!\n",
      "Wonderful\n",
      "Highly recommended\n",
      "Worth the money\n",
      "Brilliant\n",
      "Must buy!\n",
      "Great product\n",
      "Worth every penny\n"
     ]
    },
    {
     "ename": "AttributeError",
     "evalue": "'NoneType' object has no attribute 'div'",
     "output_type": "error",
     "traceback": [
      "\u001b[1;31m---------------------------------------------------------------------------\u001b[0m",
      "\u001b[1;31mAttributeError\u001b[0m                            Traceback (most recent call last)",
      "\u001b[1;32m<ipython-input-103-9f8349dd4c9d>\u001b[0m in \u001b[0;36m<module>\u001b[1;34m\u001b[0m\n\u001b[0;32m      1\u001b[0m \u001b[1;32mfor\u001b[0m \u001b[0mi\u001b[0m \u001b[1;32min\u001b[0m \u001b[0mcomment_box\u001b[0m\u001b[1;33m:\u001b[0m\u001b[1;33m\u001b[0m\u001b[1;33m\u001b[0m\u001b[0m\n\u001b[1;32m----> 2\u001b[1;33m     \u001b[0mprint\u001b[0m\u001b[1;33m(\u001b[0m\u001b[0mi\u001b[0m\u001b[1;33m.\u001b[0m\u001b[0mdiv\u001b[0m\u001b[1;33m.\u001b[0m\u001b[0mdiv\u001b[0m\u001b[1;33m.\u001b[0m\u001b[0mdiv\u001b[0m\u001b[1;33m.\u001b[0m\u001b[0mp\u001b[0m\u001b[1;33m.\u001b[0m\u001b[0mtext\u001b[0m\u001b[1;33m)\u001b[0m\u001b[1;33m\u001b[0m\u001b[1;33m\u001b[0m\u001b[0m\n\u001b[0m",
      "\u001b[1;31mAttributeError\u001b[0m: 'NoneType' object has no attribute 'div'"
     ]
    }
   ],
   "source": [
    "for i in comment_box:\n",
    "    print(i.div.div.div.p.text)"
   ]
  },
  {
   "cell_type": "code",
   "execution_count": 105,
   "metadata": {},
   "outputs": [
    {
     "data": {
      "text/plain": [
       "<div><div class=\"\">Upgraded from XR to 14 pro, amazing phone with advanced features limited to just pro models, stock availability is too low. Got mine by luck!<br/>If youre upgrading from iPhone 11 /11 pro  and below you'll love the update</div><span class=\"_1H-bmy\"><span>READ MORE</span></span></div>"
      ]
     },
     "execution_count": 105,
     "metadata": {},
     "output_type": "execute_result"
    }
   ],
   "source": [
    "comment_box[0].div.div.find_all(\"div\",{\"class\":\"\"})[0]"
   ]
  },
  {
   "cell_type": "code",
   "execution_count": 106,
   "metadata": {},
   "outputs": [
    {
     "data": {
      "text/plain": [
       "\"Upgraded from XR to 14 pro, amazing phone with advanced features limited to just pro models, stock availability is too low. Got mine by luck!If youre upgrading from iPhone 11 /11 pro  and below you'll love the updateREAD MORE\""
      ]
     },
     "execution_count": 106,
     "metadata": {},
     "output_type": "execute_result"
    }
   ],
   "source": [
    "comment_box[0].div.div.find_all(\"div\",{\"class\":\"\"})[0].text"
   ]
  },
  {
   "cell_type": "code",
   "execution_count": 107,
   "metadata": {},
   "outputs": [
    {
     "name": "stdout",
     "output_type": "stream",
     "text": [
      "Upgraded from XR to 14 pro, amazing phone with advanced features limited to just pro models, stock availability is too low. Got mine by luck!If youre upgrading from iPhone 11 /11 pro  and below you'll love the updateREAD MORE\n",
      "Fantastic product even though it's just an iterative upgrade to iphone 13 pro. The deep purple looks purple when the light hits the phone a certain way and it's beautiful. Dynamic island is very practical and useful. Hopefully it will get better when 3rd party developers start making use of it.Flipkart's delivery was quick and hassle free. The order was delivered on the launch date and was packed well.READ MORE\n",
      "Worth the Money✨Brilliant life batteryThe wallpaper and customisation updates are awesomeThe camera clicks a very clear picEkart made a super fast delivery👍Thanks Ekart!READ MORE\n",
      "Upgraded from iPhone 11 pro to iPhone 14 pro, awesome phone camera, Display quality good very fast delivery.⭐️⭐️⭐️⭐️⭐️READ MORE\n",
      "Great and real product. Absolutely trustworthy seller with the best price drop available in the market.READ MORE\n",
      "Super phone. Best price when I bought. Super experience with amazing camera.READ MORE\n",
      "Just WOW!! Best in all segment!!READ MORE\n",
      "Awesome 😎🍫🥰READ MORE\n",
      "Camera Awesome and overall mobile look is CoolREAD MORE\n",
      "CAMERA IS SUPERBREAD MORE\n"
     ]
    },
    {
     "ename": "AttributeError",
     "evalue": "'NoneType' object has no attribute 'div'",
     "output_type": "error",
     "traceback": [
      "\u001b[1;31m---------------------------------------------------------------------------\u001b[0m",
      "\u001b[1;31mAttributeError\u001b[0m                            Traceback (most recent call last)",
      "\u001b[1;32m<ipython-input-107-9c29b6ec6d87>\u001b[0m in \u001b[0;36m<module>\u001b[1;34m\u001b[0m\n\u001b[0;32m      1\u001b[0m \u001b[1;32mfor\u001b[0m \u001b[0mi\u001b[0m \u001b[1;32min\u001b[0m \u001b[0mcomment_box\u001b[0m\u001b[1;33m:\u001b[0m\u001b[1;33m\u001b[0m\u001b[1;33m\u001b[0m\u001b[0m\n\u001b[1;32m----> 2\u001b[1;33m     \u001b[0mprint\u001b[0m\u001b[1;33m(\u001b[0m\u001b[0mi\u001b[0m\u001b[1;33m.\u001b[0m\u001b[0mdiv\u001b[0m\u001b[1;33m.\u001b[0m\u001b[0mdiv\u001b[0m\u001b[1;33m.\u001b[0m\u001b[0mfind_all\u001b[0m\u001b[1;33m(\u001b[0m\u001b[1;34m\"div\"\u001b[0m\u001b[1;33m,\u001b[0m\u001b[1;33m{\u001b[0m\u001b[1;34m\"class\"\u001b[0m\u001b[1;33m:\u001b[0m\u001b[1;34m\"\"\u001b[0m\u001b[1;33m}\u001b[0m\u001b[1;33m)\u001b[0m\u001b[1;33m[\u001b[0m\u001b[1;36m0\u001b[0m\u001b[1;33m]\u001b[0m\u001b[1;33m.\u001b[0m\u001b[0mtext\u001b[0m\u001b[1;33m)\u001b[0m\u001b[1;33m\u001b[0m\u001b[1;33m\u001b[0m\u001b[0m\n\u001b[0m",
      "\u001b[1;31mAttributeError\u001b[0m: 'NoneType' object has no attribute 'div'"
     ]
    }
   ],
   "source": [
    "for i in comment_box:\n",
    "    print(i.div.div.find_all(\"div\",{\"class\":\"\"})[0].text)"
   ]
  },
  {
   "cell_type": "code",
   "execution_count": null,
   "metadata": {},
   "outputs": [],
   "source": []
  }
 ],
 "metadata": {
  "kernelspec": {
   "display_name": "Python 3",
   "language": "python",
   "name": "python3"
  },
  "language_info": {
   "codemirror_mode": {
    "name": "ipython",
    "version": 3
   },
   "file_extension": ".py",
   "mimetype": "text/x-python",
   "name": "python",
   "nbconvert_exporter": "python",
   "pygments_lexer": "ipython3",
   "version": "3.8.5"
  }
 },
 "nbformat": 4,
 "nbformat_minor": 4
}
